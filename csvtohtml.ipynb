{
 "cells": [
  {
   "cell_type": "code",
   "execution_count": null,
   "id": "8fb6dad2",
   "metadata": {},
   "outputs": [],
   "source": [
    "import pandas as pd"
   ]
  },
  {
   "cell_type": "code",
   "execution_count": null,
   "id": "c0d83fe5",
   "metadata": {},
   "outputs": [],
   "source": [
    "df = pd.read_csv('Resources/cities.csv')"
   ]
  },
  {
   "cell_type": "code",
   "execution_count": null,
   "id": "ee24c3f1",
   "metadata": {},
   "outputs": [],
   "source": [
    "df.to_html('csvtodata.html', index=False)"
   ]
  },
  {
   "cell_type": "code",
   "execution_count": null,
   "id": "0ef68f34",
   "metadata": {},
   "outputs": [],
   "source": [
    "table = df.to_html()"
   ]
  }
 ],
 "metadata": {
  "kernelspec": {
   "display_name": "Python 3 (ipykernel)",
   "language": "python",
   "name": "python3"
  },
  "language_info": {
   "codemirror_mode": {
    "name": "ipython",
    "version": 3
   },
   "file_extension": ".py",
   "mimetype": "text/x-python",
   "name": "python",
   "nbconvert_exporter": "python",
   "pygments_lexer": "ipython3",
   "version": "3.9.12"
  }
 },
 "nbformat": 4,
 "nbformat_minor": 5
}
